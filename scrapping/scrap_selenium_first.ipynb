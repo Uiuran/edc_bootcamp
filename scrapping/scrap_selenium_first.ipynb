{
 "cells": [
  {
   "cell_type": "code",
   "execution_count": 17,
   "id": "fef1794a-ba1a-4201-8369-aaef1451aa59",
   "metadata": {},
   "outputs": [],
   "source": [
    "from selenium import webdriver\n",
    "from selenium.webdriver.common.by import By"
   ]
  },
  {
   "cell_type": "code",
   "execution_count": 67,
   "id": "8f86240f-1ed2-4521-8b67-0218ee2bd3e8",
   "metadata": {},
   "outputs": [
    {
     "name": "stderr",
     "output_type": "stream",
     "text": [
      "/tmp/ipykernel_413470/708344665.py:2: DeprecationWarning: executable_path has been deprecated, please pass in a Service object\n",
      "  driver = webdriver.Chrome(executable_path=path)\n"
     ]
    }
   ],
   "source": [
    "path = '/home/penalva/Downloads/chromedriver'\n",
    "driver = webdriver.Chrome(executable_path=path)\n",
    "page = driver.get('https://www.linkedin.com/')\n",
    "user=driver.find_element(By.ID,'session_key')\n",
    "user.send_keys('dkajah@gmail.com')\n",
    "passw = driver.find_element(By.ID,'session_password')\n",
    "passw.send_keys('Aryatara')\n",
    "sign_in = driver.find_element(By.CLASS_NAME,'sign-in-form__submit-button')\n",
    "sign_in.click()\n",
    "driver.get('https://www.linkedin.com/jobs/search/?keywords=%20data%20science%20jobs&location=Brazil')"
   ]
  },
  {
   "cell_type": "code",
   "execution_count": 101,
   "id": "01bf8461-1c39-4bb1-a51c-f12df47985c0",
   "metadata": {},
   "outputs": [],
   "source": [
    "#logged option\n",
    "num=0\n",
    "job=driver.find_element(By.CLASS_NAME,'jobs-search-two-pane__job-card-container--viewport-tracking-{}'.format(str(num)))\n",
    "\n",
    "job.click()\n",
    "\n",
    "descript=driver.find_element(By.CLASS_NAME,'jobs-description__container')\n",
    "print(descript.text)\n",
    "\n",
    "enterprise = driver.find_element(By.XPATH,'//div[@class=\"jobs-unified-top-card__primary-description\"]//a').text\n",
    "enterprise\n",
    "\n",
    "where = driver.find_element(By.CLASS_NAME,'jobs-unified-top-card__bullet').text\n",
    "where\n",
    "\n",
    "try:\n",
    "    job_type = driver.find_element(By.CLASS_NAME,'jobs-unified-top-card__workplace-type').text\n",
    "except:\n",
    "    job_type='unknown'\n",
    "job_type\n",
    "\n",
    "age = driver.find_element(By.CLASS_NAME,'jobs-unified-top-card__posted-date').text\n",
    "age"
   ]
  },
  {
   "cell_type": "code",
   "execution_count": 62,
   "id": "75f29cd5-086c-4e87-a7df-5db0918efe07",
   "metadata": {},
   "outputs": [],
   "source": [
    "#Unlogged option\n",
    "row = '4'\n",
    "try:\n",
    "    join_button = driver.find_element(By.XPATH,'//li/div[@data-row=\"{}\"]'.format(row))\n",
    "except:\n",
    "    join_button = driver.find_element(By.XPATH,'//li/a[@data-row=\"{}\"]'.format(row))\n",
    "\n",
    "expand_button = driver.find_element(By.XPATH,'//button[@aria-label=\"Show more, visually expands previously read content above\"]')\n",
    "\n",
    "expand_button.click()\n",
    "\n",
    "text_element = driver.find_element(By.CLASS_NAME,\"show-more-less-html__markup\")\n",
    "\n",
    "text_element.text\n",
    "\n",
    "enterprise_name = driver.find_element(By.CLASS_NAME,\"topcard__flavor\")\n",
    "\n",
    "enterprise_name.text\n",
    "\n",
    "age = driver.find_element(By.CLASS_NAME,\"posted-time-ago__text\")\n",
    "\n",
    "age.text"
   ]
  }
 ],
 "metadata": {
  "kernelspec": {
   "display_name": "Python 3 (ipykernel)",
   "language": "python",
   "name": "python3"
  },
  "language_info": {
   "codemirror_mode": {
    "name": "ipython",
    "version": 3
   },
   "file_extension": ".py",
   "mimetype": "text/x-python",
   "name": "python",
   "nbconvert_exporter": "python",
   "pygments_lexer": "ipython3",
   "version": "3.9.13"
  }
 },
 "nbformat": 4,
 "nbformat_minor": 5
}
